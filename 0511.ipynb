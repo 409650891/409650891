{
  "nbformat": 4,
  "nbformat_minor": 0,
  "metadata": {
    "colab": {
      "name": "0511.ipynb",
      "provenance": [],
      "authorship_tag": "ABX9TyOA6yWRHZyLj4PogayTPVED",
      "include_colab_link": true
    },
    "kernelspec": {
      "name": "python3",
      "display_name": "Python 3"
    },
    "language_info": {
      "name": "python"
    }
  },
  "cells": [
    {
      "cell_type": "markdown",
      "metadata": {
        "id": "view-in-github",
        "colab_type": "text"
      },
      "source": [
        "<a href=\"https://colab.research.google.com/github/409650891/409650891/blob/main/0511.ipynb\" target=\"_parent\"><img src=\"https://colab.research.google.com/assets/colab-badge.svg\" alt=\"Open In Colab\"/></a>"
      ]
    },
    {
      "cell_type": "code",
      "execution_count": 1,
      "metadata": {
        "colab": {
          "base_uri": "https://localhost:8080/"
        },
        "id": "A_2O8GYkWPc5",
        "outputId": "62d3cfc0-3f85-4edd-f763-5b6569eca8d6"
      },
      "outputs": [
        {
          "output_type": "stream",
          "name": "stdout",
          "text": [
            "請輸入你的體溫37.5\n",
            "體溫過高!\n"
          ]
        }
      ],
      "source": [
        "temp=float(input(\"請輸入你的體溫\"))\n",
        "if temp>=37.5:\n",
        "  print(\"體溫過高!\")\n",
        "elif temp>=37 and temp<37.4:\n",
        "  print(\"體溫略高!\")\n",
        "elif temp>=34 and temp<36.9:\n",
        "  print(\"體溫正常!\")\n",
        "else:\n",
        "  print(\"體溫異常，請重新量測!\")"
      ]
    },
    {
      "cell_type": "code",
      "source": [
        "money=int(input(\"請輸入購物金額:\"))\n",
        "if(money>=10000):\n",
        "  if(money>=100000):\n",
        "      print(\"八折\",money *0.8,end=\"元\\n\")\n",
        "  elif(money>=50000):\n",
        "      print(\"八五折\",money *0.85,end=\"元\\n\")\n",
        "  elif(money>=30000):\n",
        "      print(\"九折\",money *0.9,end=\"元\\n\")\n",
        "  else:\n",
        "      print(\"九五折\",money *0.95,end=\"元\\n\")\n",
        "else:\n",
        "    print(\"沒打折\",money,end=\"元\\n\")"
      ],
      "metadata": {
        "colab": {
          "base_uri": "https://localhost:8080/"
        },
        "id": "ELZ8zLhuZi6g",
        "outputId": "34f516db-2a29-4670-a81c-a7affcfcf277"
      },
      "execution_count": 3,
      "outputs": [
        {
          "output_type": "stream",
          "name": "stdout",
          "text": [
            "請輸入購物金額:50000\n",
            "八五折 42500.0元\n"
          ]
        }
      ]
    },
    {
      "cell_type": "code",
      "source": [
        "season=float(input(\"請輸入月份\"))\n",
        "if season==3 or season==4 or season==5:\n",
        "  print(\"x月是夏天!\")\n",
        "elif season==6 or season==7 or season==8:\n",
        "  print(\"x月是秋天!\")\n",
        "elif season==9 or season==10 or season==11:\n",
        "  print(\"x月是秋天!\")\n",
        "elif season==12 or season==1 or season==2:\n",
        "  print(\"x月是冬天!\")\n",
        "else:\n",
        "  print(\"月份不再範圍內!\")"
      ],
      "metadata": {
        "colab": {
          "base_uri": "https://localhost:8080/"
        },
        "id": "cu6EA_97blkr",
        "outputId": "19b1c843-7dc6-4dfe-81c1-65ca88b33f35"
      },
      "execution_count": 14,
      "outputs": [
        {
          "output_type": "stream",
          "name": "stdout",
          "text": [
            "請輸入月份3\n",
            "x月是夏天!\n"
          ]
        }
      ]
    },
    {
      "cell_type": "code",
      "source": [
        "money=int(input(\"請輸入今年收入淨額:\"))\n",
        "if(money>=10000):\n",
        "  if(money>=2000000):\n",
        "      print(\"付稅金額\",money *0.3,end=\"元\\n\")\n",
        "  elif(money>=1000000):\n",
        "      print(\"付稅金額\",money *0.21,end=\"元\\n\")\n",
        "  elif(money>=600000):\n",
        "      print(\"付稅金額\",money *0.13,end=\"元\\n\")\n",
        "  elif(money>=300000):\n",
        "      print(\"付稅金額\",money *0.06,end=\"元\\n\")\n",
        "  else:\n",
        "      print(\"付稅金額\",money*0,end=\"元\\n\")\n",
        "      \n",
        "money=int(input(\"請輸入今年收入淨額:\"))\n",
        "if(money>=10000):\n",
        "  if(money>=2000000):\n",
        "      print(\"付稅金額\",money *0.3,end=\"元\\n\")\n",
        "  elif(money>=1000000):\n",
        "      print(\"付稅金額\",money *0.21,end=\"元\\n\")\n",
        "  elif(money>=600000):\n",
        "      print(\"付稅金額\",money *0.13,end=\"元\\n\")\n",
        "  elif(money>=300000):\n",
        "      print(\"付稅金額\",money *0.06,end=\"元\\n\")\n",
        "  else:\n",
        "      print(\"付稅金額\",money*0,end=\"元\\n\")"
      ],
      "metadata": {
        "colab": {
          "base_uri": "https://localhost:8080/"
        },
        "id": "8Mx9QtWbfY3H",
        "outputId": "82fea3a5-bf66-4fde-8583-1f3c3f2b26bb"
      },
      "execution_count": 24,
      "outputs": [
        {
          "output_type": "stream",
          "name": "stdout",
          "text": [
            "請輸入今年收入淨額:100000\n",
            "付稅金額 0元\n",
            "請輸入今年收入淨額:2000000\n",
            "付稅金額 600000.0元\n"
          ]
        }
      ]
    },
    {
      "cell_type": "code",
      "source": [
        "score=float(input(\"請輸入成績\"))\n",
        "if score>=90:\n",
        "  print(\"A\")\n",
        "elif score>=80 and score<90:\n",
        "  print(\"B\")\n",
        "elif score>=70 and score<80:\n",
        "  print(\"C\")\n",
        "elif score>=60 and score<70:\n",
        "  print(\"D\")\n",
        "else:\n",
        "  print(\"E\")\n",
        "\n",
        "score=float(input(\"請輸入成績\"))\n",
        "if score>=90:\n",
        "  print(\"A\")\n",
        "elif score>=80 and score<90:\n",
        "  print(\"B\")\n",
        "elif score>=70 and score<80:\n",
        "  print(\"C\")\n",
        "elif score>=60 and score<70:\n",
        "  print(\"D\")\n",
        "else:\n",
        "  print(\"E\")\n",
        "\n",
        "score=float(input(\"請輸入成績\"))\n",
        "if score>=90:\n",
        "  print(\"A\")\n",
        "elif score>=80 and score<90:\n",
        "  print(\"B\")\n",
        "elif score>=70 and score<80:\n",
        "  print(\"C\")\n",
        "elif score>=60 and score<70:\n",
        "  print(\"D\")\n",
        "else:\n",
        "  print(\"E\")"
      ],
      "metadata": {
        "colab": {
          "base_uri": "https://localhost:8080/"
        },
        "id": "KPihNPQFh2fe",
        "outputId": "69ff8e3b-741f-49c5-a188-1082cb7a4338"
      },
      "execution_count": 27,
      "outputs": [
        {
          "output_type": "stream",
          "name": "stdout",
          "text": [
            "請輸入成績90\n",
            "A\n",
            "請輸入成績80\n",
            "B\n",
            "請輸入成績50\n",
            "E\n"
          ]
        }
      ]
    }
  ]
}