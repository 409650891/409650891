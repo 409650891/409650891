{
  "nbformat": 4,
  "nbformat_minor": 0,
  "metadata": {
    "colab": {
      "name": "0608.ipynb",
      "provenance": [],
      "include_colab_link": true
    },
    "kernelspec": {
      "name": "python3",
      "display_name": "Python 3"
    },
    "language_info": {
      "name": "python"
    }
  },
  "cells": [
    {
      "cell_type": "markdown",
      "metadata": {
        "id": "view-in-github",
        "colab_type": "text"
      },
      "source": [
        "<a href=\"https://colab.research.google.com/github/409650891/409650891/blob/main/0608.ipynb\" target=\"_parent\"><img src=\"https://colab.research.google.com/assets/colab-badge.svg\" alt=\"Open In Colab\"/></a>"
      ]
    },
    {
      "cell_type": "code",
      "execution_count": null,
      "metadata": {
        "colab": {
          "base_uri": "https://localhost:8080/"
        },
        "id": "gv-YeBPMTPyN",
        "outputId": "ebf62c15-aaab-4a43-8ddc-a1e49e66e474"
      },
      "outputs": [
        {
          "output_type": "stream",
          "name": "stdout",
          "text": [
            "國文成績:85分\n",
            "數學成績:79分\n",
            "英文成績:93分\n"
          ]
        }
      ],
      "source": [
        "scores=[\"國文成績:85分\",\"數學成績:79分\",\"英文成績:93分\"]\n",
        "for i in range(len(scores)):\n",
        "  print(scores[i])"
      ]
    },
    {
      "cell_type": "code",
      "source": [
        "list=[\"編號:1 姓名:Tom\",\"編號:2 姓名:Mary\",\"編號:3 姓名:Tony\"]\n",
        "for i in range(len(list)):\n",
        "  print(list[i])"
      ],
      "metadata": {
        "colab": {
          "base_uri": "https://localhost:8080/"
        },
        "id": "xDlPR9-7Tsl8",
        "outputId": "35667014-798f-4eea-c901-7506d8de7ad3"
      },
      "execution_count": null,
      "outputs": [
        {
          "output_type": "stream",
          "name": "stdout",
          "text": [
            "編號:1 姓名:Tom\n",
            "編號:2 姓名:Mary\n",
            "編號:3 姓名:Tony\n"
          ]
        }
      ]
    }
  ]
}